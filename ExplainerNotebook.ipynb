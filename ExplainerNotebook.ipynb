{
  "nbformat": 4,
  "nbformat_minor": 0,
  "metadata": {
    "colab": {
      "name": "Explainer notebook.ipynb",
      "provenance": [],
      "collapsed_sections": []
    },
    "kernelspec": {
      "name": "python3",
      "display_name": "Python 3"
    }
  },
  "cells": [
    {
      "cell_type": "markdown",
      "metadata": {
        "id": "RpvPqgF2fL7D",
        "colab_type": "text"
      },
      "source": [
        "# Explainer notebook\n",
        "\n"
      ]
    },
    {
      "cell_type": "markdown",
      "metadata": {
        "id": "NbedN1Krfb-t",
        "colab_type": "text"
      },
      "source": [
        "# 1. Motivation\n",
        "\n",
        "\n",
        "*  **Dataset**\n",
        "\n",
        "The main dataset is [Fire department Calls in San Francisco](https://data.sfgov.org/Public-Safety/Fire-Department-Calls-for-Service/nuek-vuh3?fbclid=IwAR2QmKr9y18SrR9dMEOvXvs8gPEMUStcmZ5VDSytIzZls9zIqTjc7db8oa4).\n",
        "The dataset contains all fire department calls in San Francisco in the period from 12th of April 2000 to the date. The dataset is being updated everyday.  \n",
        "\n",
        "We have chosen to exclude the years 2000 and 2020 because there is a lack of data from some months in these two years. The dataset contains 5.249.277 number of calls, and each call is decribed by 44 attributes. These variables are e.g. \"Call type\", \"Date and time\", \"Priority\", \"Neighborhood\" and so on. The dataset is 2,05 GB. \n",
        "\n",
        "Other than the main dataset, geojson files covering the [neighborhoods](https://data.sfgov.org/Geographic-Locations-and-Boundaries/Analysis-Neighborhoods/p5b7-5n3h) and [districts](https://data.sfgov.org/Geographic-Locations-and-Boundaries/Current-Supervisor-Districts/8nkz-x4ny) of San Francisco are used.\n",
        "\n",
        "We also use [weather data from San Francisco](https://www.meteoblue.com/en/weather/archive/export/san-francisco_united-states-of-america_5391959) in our machine learning part. \n",
        "\n",
        "*   **Why did you choose this/these particular dataset(s)?**\n",
        "\n",
        "We chose this particular dataset in the light of the material that we have worked with during the course. Through the lectures and the material we have learned about San Francisco and now know it to a certain extent. \n",
        "\n",
        "Other than that we think that there could be interesting correlations to explore, between different call types, locations of the calls and so on. \n",
        "\n",
        "We chose to combine the fire department data with weather data in our machine learning part, because we think that there could be some correlations between the weather and some of the call types, which could lead to better predictions about the call type. \n",
        "\n",
        "* **What was your goal for the end user's experience?**\n",
        "\n",
        "The goal for the end user's experience is to make a homepage with interactive tools, to explore the distribution and the coherence between the neighborhoods of San Francisco, the 14 most common types of calls that the fire department receives and the time development. To achieve this, an interactive map is made to give an overview and two histograms are made to explore geographical patterns as well as time development.\n",
        "\n",
        "Guidelines for the tools are made with explanatory text, such that the user can interact with the tools wisely, get useful information about the data, and find the interesting correlations between attributes. To do so, some stories in the data will be outlined and explored through the different interactive tools.\n",
        "\n",
        "Another goal for the end user is the possibility to predict e.g. what the next call type will be in a specific neighborhood based on relevant attributes based on e.g. call type, priority and other relevant attributes, or predict the priority of a call only based on the negihborhood/district and the call type. "
      ]
    },
    {
      "cell_type": "markdown",
      "metadata": {
        "id": "lN5jUPEtgKBb",
        "colab_type": "text"
      },
      "source": [
        "# 2. Basic stats\n",
        "\n",
        "* **Write about your choices in data cleaning and preprocessing**\n",
        "\n",
        "The data cleaning is done in the notebook \"DataPreparation\". \n",
        "\n",
        "Since the dataset is quite large, we only consider the 14 most common call types. These call types have more than 10.000 calls each. Observations with other call types than these 14 are removed from the dataset. Since the data collection started in april 2000, and only runs until the current date in 2020, observations from both 2000 and 2020 are removed.\n",
        "\n",
        "As mentioned earlier, each call is described by 44 attributes. We are not interested in all these 44 attributes, because many of these attributes are not relevant for our data analysis. Therefore we remove the excess attributes, in order to make the dataset smaller and easier to work with. The overall attributes that we consider in our data analysis are 'Call Number', 'Call Type', 'Final Priority', 'Call Type Group', 'Neighborhooods - Analysis Boundaries', 'Location', 'Datetime' and 'Supervisor Districts'.\n",
        "\n",
        "We checked the dataset for missing data, but it appears there was no missing data in the relevant columns.\n",
        "\n",
        "To create our visualizations we have made smaller datasets only with the relevant attributes for each specific visualization. This is due to the fact that each dataset has to be small enough to be uploaded to Github. It also helps the plots to load relatively fast.\n",
        "\n",
        "\n",
        "* **Write a short section that discusses the dataset stats, containing key points/plots from your exploratory data analysis.**\n",
        "\n",
        "All important data stats can be found the jupyter notebook \"Basic stats\".\n",
        "\n",
        "The dataset ends up consisting of 4,969,242 rows and 8 attributes. This means that we have 4,969,242 calls from the 18 years (2001-2019) we are looking at. \n",
        "\n",
        "* We have approximately 261,539 calls to the fire department per year, where the year with the most calls was 2019 with 318,431 calls and the year with the least calls was 2001 with 217,798 calls. This shows us that the number of calls to the fire department is generally increasing. \n",
        "\n",
        "* We have approximately 716 calls to the fire department per day. The day with the most calls had 1,737 calls and the day with the least call had 387 calls.\n",
        "\n",
        "Our key plots are our hourly, daily, monthly and yearly histograms for each call type. The most important key points from these plots are listed below:\n",
        "* Hourly patterns: Most of the call types follow the same pattern over the hours of the day. There are many calls during the daytime and fewer during the nighttime.\n",
        "* Weekly patterns: Most of the call types have an even distribution over the weekdays.\n",
        "* Monthly patterns: Some call types are associated with the summer/winter half years e.g electrical hazard and some are evenly distributed over the months.\n",
        "* Yearly patterns: For some of the call types the number of calls increase over the years e.g. alarms, medical incident, water rescue and gas leak. While for some of the call types the number of calls decreases over the years. \n",
        "\n",
        "Another key plot is a heatmap showing the coherences between the neighborhoods and the call types. From this plot we can see that there are some clear connections between some neighborhoods and some call types e.g. electrical hazard and Sunset/Parkside.\n",
        "\n"
      ]
    },
    {
      "cell_type": "markdown",
      "metadata": {
        "id": "l_sdJFa_gjUq",
        "colab_type": "text"
      },
      "source": [
        "# 3. Data analysis\n",
        "\n",
        "* **Describe your data analysis and explain what you've learned about the dataset.**\n",
        "\n",
        "Our data analysis is based on the histograms, the interactive map of San Francisco and the heatmap which is made in the basic stats notebook. From these the following tendencies have been analysed. For the homepage the cohenrences between the Sunset/Parkside and Electrical Hazard, and between Financial District/South Beach and water rescues are chosen to guide the user from visualization to visualization.\n",
        "\n",
        "**Temporal patterns:**\n",
        "\n",
        "* Hourly patterns: As discussed in the previous section, most of the call types follow the same pattern over the hours of the day. There are most calls during daytime and least during nighttime. This make perfect sense, because during the nighttime most people are sleeping. This pattern changes a little bit in the way that some call types has almost no calls at night, e.g. water rescue, elevator (escalator rescue) and odor. \n",
        "\n",
        "* Weekly patterns: Most of the call types have a plain distribution over the weekdays. The call type water rescue has most calls in the weekend (Saturday and Sunday). More people have time to go to the beaches in the weekend, which could result in this pattern. The distribution for the  elevator / escalator rescue, shows the same pattern. Another notable observation is the pattern for traffic collisions. The distribution peaks on Fridays, which could be a consequence dense traffic up to the weekend.\n",
        "\n",
        "* Monthly patterns: There are fewer alarms over the summer period (May, June, July). A reason for this pattern could the reducing of workforce in the vacation time. There are most water rescues in the summer period, with most calls in May. It could be due to the change of the weather and the starting summer time. There are most gas leak calls in the winter period and least calls in the summer. Gas is used more in the winter period, because of the colder weather. There are more calls about outside fire in the summer than in the winter, but there are the most in July and January. It make sense that there are more outside fires in summer period. The peak in January could be a consequence of new years eve. There are least electrical hazard calls in late summer (August and September), and most calls in the winter period. \n",
        "\n",
        "* Yearly patterns: As previouly mentioned, for some of the call types the number of calls increase over the years. This could be due to the increasing population in San Francisco. The number of people in San Francisco has grown by around 10 % over the past ten years. But for other call types the number of calls have decreased over the years, e.g. structure fire, odor and vehicle fire. This could be due to the fact that cars are less flammable today than previously. \n",
        "\n",
        "**Geographical patterns**\n",
        "\n",
        "* Location patterns: Looking at the geographical patterns several coherences between neighborhoods and call types are notable. It seems like water rescue only occurs in neighborhoods located next to the sea, e.g. Bayview Hunters Point, North Beach, Marina and South Beach. It also seems like the call type elevator/escalator rescue is most common in some neighborhoods, where there is many calls of this type, and it seems like there is almost none in other neighborhoods. When we investigated this we discovered that the neighborhoods with most of this call type has many inhabitants and many towers, where the neighborhoods with least of the call type are parks and neighborhoods with fewer inhabitants. \n",
        "\n",
        "* **If relevant, talk about your machine-learning.**\n",
        "\n",
        "We want to apply machine learning to the data set. The reason for this, is that we expect that certain information about a call can be predicted based on other attributes.\n",
        "\n",
        "* We expect that we can predict the type of a call based on some attributes, eg. the neighborhood or the district of the call, the priority of the call and the time of the call (week, month, hour of day). We also want to include weather data, and see if we can make better predictions about the type of the call, when knowing the weather of the day the call was received. "
      ]
    },
    {
      "cell_type": "markdown",
      "metadata": {
        "id": "vmddpsUVgrRW",
        "colab_type": "text"
      },
      "source": [
        "# 4. Genre\n",
        "\n",
        "* **Which tools did you use from each of the 3 categories of Visual Narrative (Figure 7 in Segal and Heer). Why?**\n",
        "\n",
        "1. From the category \"Visual Structuring\" we use an establishing shot/splash screen. This estabilshing shot is our map of San Francisco, and it is used to introduce the scene to the viewer. As the viewer steps through the panels in each of our interactive plots, the visualization maintains a consistent visual platform, changing only the content within each panel while leaving the general layout of the visual elements intact. In the visualization of the map and the histogram of the geographical patterns we use a timebar, such that the viewer can slide over the years. \n",
        "\n",
        "2. From the category \"Highlighting\" we have used close-ups in the end of our presentation, showing the distribution of water rescues in Financial District/ South Beach and electrical hazard in Sunset/Parkside. These close-ups are used to further explain patterns for two specific call types and the two neighborhoods where these two call types are most common. \n",
        "To  effectively tell stories with our data we have used feature distinction. The used features are colors on the map, where the color differences explain in which areas there are most calls and in which areas there are fewer calls. Furthermore, a marking on either the scale or map is shown when holding the mouse over the area. \n",
        "Motion is also used in the way that the colors change in the map, when the viewer slides over the years. This is used to easily show the viewer which areas change over the years. \n",
        "\n",
        "3. We have not used any tools from the category \"Transition Guidance\". \n",
        "\n",
        "* **Which tools did you use from each of the 3 categories of Narrative Structure (Figure 7 in Segal and Heer). Why?**\n",
        "\n",
        "1. When we look at the category \"Ordering\" we have a linear ordering, where we show the path for the viewer. The viewer is being present for each plot in a chosen order and the text leads the viewer through the visualizations. This is chosen because the dataset is quite large, and there are many paths the viewer can go. To show the user some of the exciting discoveries we have made by working with this dataset, we have chosen to guide the viewer. This is also called author-driven, where we have a linear ordering of scenes and heavy messaging. The viewer can afterwards experience the visualizations on their own without path to follow and use the limited interactivity, which result in the prensentation fall somewhere in-between the author-driven and the user-driven approach, but mostly towards the author-driven approach. \n",
        "\n",
        "2. From the category \"Interactivity\" we have used hover highlighting with details about the different districts/neighborhoods on the map. This tool is used because we want to tell the viewer which neighborhood or district they are looking and give them a bit more information about the neighborhood/district. \n",
        "We also have filtering/selection on all of the visaulizations. The viewer can filter on priority on the map plot and filter on the call type in the barplots. At the same time the user can select a specific year, or all the years at once. The reason why we have filter and selection options on our maps, is again because the dataset is large, so we want the viewer to have the options to filter, and dive into the exciting parts.\n",
        "We use navigation buttons, in all of the visualizations. Each plot has more than one frame.\n",
        "As said before we have limited interactivity in all our plots. \n",
        "When we decribe the path through our presentation we use explicit instruction.  \n",
        "We also use the tool \"stimulating default views\", to provide initial presentations of data and analysis intended to excite the viewer. \n",
        "\n",
        "3. From the category \"Messaging\" we use captions/headlines, to describe the different sections of the analysis. \n",
        "We have annotations and multi-messaging, to help the viewer understand the data and the conclusions we have made on the data. \n",
        "We also have an introductory text to begin with, which is used to introduce the viewer to the dataset and what we want to investigate. "
      ]
    },
    {
      "cell_type": "markdown",
      "metadata": {
        "id": "Cdki7MPggwon",
        "colab_type": "text"
      },
      "source": [
        "# 5. Visualizations\n",
        "\n",
        "* **Explain the visualizations you've chosen.**\n",
        "\n",
        "The interactive visualizations that have been choosen are listed below:\n",
        "- An interactive map to give the user an overview of the distribution of call types in San Francisco, based on chosen parameters as priority (ex. Code 2: Non-Emergency or Code 3:Emergency). This map also contains specific information about each neighborhood/district. When the user is holding the mouse over a neighborhood, a hover will show up. The hover will show information about the neighborhood/district. In this visualization there's also a map showing the distribution of calls per 100 residents in 2015. This map is made to further investigate the distribution of the calls throughout the neighborhoods.\n",
        "- To explore the neighborhoods additionally, a histogram showing the call type distribution over the neighborhoods is made. The histogram will allow the users to choose the call type they want to explore. In an addition, the user will also be able to slide over the years to see the yearly development in the neighborhoods.  \n",
        "- To explore the development in regards to time, histograms of the yearly, monthly, daliy and hourly development are made. The histograms will likewise be interactive, so the user can click on the call type they want to explore.\n",
        "- To conclude the outlined guided stories the geospartial distribution of the specific calls will be plotted, in specific neighborhoods.\n",
        "\n",
        "* **Why are they right for the story you want to tell?**\n",
        "\n",
        "The visualizations are chosen in the light of the way the user has to explore the data. The map is a good starting point to give the user an overview of the data and how the call types dispersed around the city, but it also allow the user to see what San Fancisco looks like, which makes the data the tool user friendly for a broad group of people, with different knowledge of San Francisco. \n",
        "\n",
        "Histograms are also user friendly and easy to understand for most people. These are good in this case because they give a good outline of how the neihgborhoods or call types behave in contrast to each other. \n",
        "\n",
        "The geospatial plots are used since they give the user the last and most detailed overview of how the calls are distributed in each neighborhood. "
      ]
    },
    {
      "cell_type": "markdown",
      "metadata": {
        "id": "XOyEnerRg1zq",
        "colab_type": "text"
      },
      "source": [
        "# 6. Discussion\n",
        "\n",
        "* **What went well?**\n",
        "\n",
        "Overall, the trends we expected to find in the data were in fact there. We managed to highlight these trends with several carefully selected plots and explorations. \n",
        "\n",
        "We were able to make a decision tree that can predict whether a call regards a water rescue or an electrical hazard, based on a selection of parameters. The accuracy of this decision tree was quite high. We also managed to make decision tree that could predict the call type of an incoming call, choosing from the 14 focus types. The accuracy of this decision tree was however a little lower. \n",
        "\n",
        "\n",
        "* **What is still missing? What could be improved?, Why?**\n",
        "\n",
        "We saw some interesting patterns when plotting 2000 samples of a certain call type on a map covering a single neighborhood. More geospatial analysis of this kind could be considered, as more interesting patterns might emerge. \n",
        "\n",
        "The section we did on machine learning could perhaps benefit from being backed up by some plots. For example, we could make a confusion matrix plot. Furthermore, it could be interesting to further develop our decision tree in order to improve the accuracy.  \n",
        "\n",
        "The call type groups could be good to put into some machine learning prediction or somehow connect to the call types and the neighborhoods.\n",
        "\n"
      ]
    },
    {
      "cell_type": "markdown",
      "metadata": {
        "id": "mrke8l-7hA6f",
        "colab_type": "text"
      },
      "source": [
        "# 7. Contributions\n",
        "The following people participated in this project:\n",
        "- Nina Melin (s154326)\n",
        "- Klara Elmegaard (s152576)\n",
        "- Nadja Riis (s153445)\n",
        "\n",
        "We contributed to the project as described below:\n",
        "\n",
        "1. Explainer notebook\n",
        "Nina and Klara had the main responsibility for the explainer notebook. They divided the sections between them how they saw fit. Everyone was involved in deciding what to put in the notebook and how to present the analysis of the data.\n",
        "\n",
        "2. Data preparation + basic statistics\n",
        "In regards to the data preparation, everyone contributed equally. This was made during the very first phase of the project, and everyone worked together in figuring out how to prepare and present the data.\n",
        "\n",
        "3. Plots \n",
        "Klara and Nadja had the main responsibility regarding the plots. Klara made the histograms, while Nadja made the choropleth maps. We all agreed on how the plots should look and behave, but the coding was mostly left to the responsible person. The neighborhood maps with locations of calls were made in cooperation between Klara and Nadja. \n",
        "\n",
        "4. Machine learning\n",
        "Nina had the main responsibility for the machine learning part. We discussed the goals together, and Nina was responsible for writing the actual code.\n",
        "\n",
        "5. Website\n",
        "hejNadja had the main responsibility for making the website work, and displaying the plots on the website with the use of Heroku. In regards to the text on the website, we divided the sections equally between us. Nadja was responsible for the first few introductory sections, Klara was responsible for the geographical and temporal sections, and Nina was responsible for the machine learning sections.\n"
      ]
    },
    {
      "cell_type": "code",
      "metadata": {
        "id": "Ld3H-plN5-dS",
        "colab_type": "code",
        "colab": {}
      },
      "source": [
        ""
      ],
      "execution_count": 0,
      "outputs": []
    }
  ]
}
