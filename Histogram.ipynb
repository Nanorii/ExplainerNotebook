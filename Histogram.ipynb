{
 "cells": [
  {
   "cell_type": "code",
   "execution_count": 1,
   "metadata": {},
   "outputs": [],
   "source": [
    "import pandas as pd\n",
    "import geopandas as gpd\n",
    "import json\n",
    "\n",
    "import bokeh\n",
    "from bokeh import plotting\n",
    "from bokeh.models import FactorRange\n",
    "from bokeh.palettes import Category20c\n",
    "from bokeh.layouts import column, row, widgetbox\n",
    "from bokeh.io import save, show, output_file, output_notebook, reset_output, export_png\n",
    "from bokeh.plotting import figure\n",
    "from bokeh.io.doc import curdoc\n",
    "from bokeh.models import (\n",
    "    GeoJSONDataSource, ColumnDataSource, ColorBar, Slider, Spacer,\n",
    "    HoverTool, TapTool, Panel, Tabs, Legend, Toggle, LegendItem, Button, Select, CategoricalColorMapper\n",
    ")\n",
    "from bokeh.palettes import brewer\n",
    "from bokeh.models.widgets import Div\n",
    "from matplotlib import pyplot as plt\n",
    "from matplotlib.colors import rgb2hex"
   ]
  },
  {
   "cell_type": "markdown",
   "metadata": {},
   "source": [
    "# Interactive histogram\n",
    "In this section we present the code used to generate the interactive histogram. We are aiming to make a plot similar to the one we made during week 8. \n",
    "\n",
    "Please note that the interactive elements only work if the code is run on a bokeh server. We have hosted the plot as an app on Heroku, and deployed it with github in order to display it on our website. The actual app can be found on https://histogram-sanfran.herokuapp.com/Final-histogram."
   ]
  },
  {
   "cell_type": "code",
   "execution_count": 2,
   "metadata": {},
   "outputs": [],
   "source": [
    "histdata = pd.read_csv('histdata.csv')\n",
    "histdata = histdata[(histdata['year'] >= 2001) & (histdata['year'] <= 2019)]"
   ]
  },
  {
   "cell_type": "code",
   "execution_count": 3,
   "metadata": {},
   "outputs": [],
   "source": [
    "neighborhoods = histdata['Neighborhooods - Analysis Boundaries'].unique().tolist()\n",
    "\n",
    "focuscalls = ['Medical Incident', 'Structure Fire', 'Alarms', 'Traffic Collision', \n",
    "              'Citizen Assist / Service Call', 'Outside Fire', 'Water Rescue', 'Vehicle Fire', \n",
    "              'Gas Leak (Natural and LP Gases)', 'Electrical Hazard', 'Elevator / Escalator Rescue', \n",
    "              'Odor (Strange / Unknown)', 'Smoke Investigation (Outside)', 'Other']"
   ]
  },
  {
   "cell_type": "code",
   "execution_count": 4,
   "metadata": {},
   "outputs": [],
   "source": [
    "def make_dataset(df1, year = 2000):\n",
    "\n",
    "    total = df1['Call Type'].value_counts()\n",
    "    df_group = df1.groupby(['Neighborhooods - Analysis Boundaries'])\n",
    "\n",
    "    l = []\n",
    "    for g in neighborhoods:\n",
    "        tmp = df_group.get_group(g)\n",
    "        l.append(tmp[\"Call Type\"].value_counts()/total)\n",
    "\n",
    "    df_l =  pd.DataFrame(l)\n",
    "    df_int = pd.DataFrame(columns = focuscalls)\n",
    "    df_norm = pd.concat([df_int, df_l])\n",
    "    df_norm.insert(loc=0, column='Neighborhoods', value=neighborhoods)\n",
    "\n",
    "    return ColumnDataSource(df_norm)"
   ]
  },
  {
   "cell_type": "code",
   "execution_count": 5,
   "metadata": {},
   "outputs": [],
   "source": [
    "def style(p):\n",
    "    # Title \n",
    "    p.title.align = 'center'\n",
    "    p.title.text_font_size = '12pt'\n",
    "    p.title.text_font_style = 'bold'\n",
    "\n",
    "    # Axis titles\n",
    "    p.xaxis.axis_label_text_font_size = '10pt'\n",
    "    p.xaxis.axis_label_text_font_style = 'bold'\n",
    "    p.yaxis.axis_label_text_font_size = '10pt'\n",
    "    p.yaxis.axis_label_text_font_style = 'bold'\n",
    "\n",
    "    # Tick labels\n",
    "    p.xaxis.major_label_text_font_size = '10pt'\n",
    "    p.yaxis.major_label_text_font_size = '10pt'\n",
    "\n",
    "    return p"
   ]
  },
  {
   "cell_type": "code",
   "execution_count": 6,
   "metadata": {},
   "outputs": [],
   "source": [
    "def make_plot1(src):\n",
    "    p1 = figure(title = \"Calls per Neighborhood\", plot_width=900, plot_height = 600, x_axis_label = \"Neighborhood\", \n",
    "                y_axis_label = \"Relative frequency\", x_range = FactorRange(factors=neighborhoods))\n",
    "    p1.xaxis.major_label_orientation = 1\n",
    "\n",
    "    bar_colors=Category20c[len(focuscalls)]\n",
    "    bar = {}\n",
    "    items = []\n",
    "    for indx, i in enumerate(focuscalls):\n",
    "        bar[i] = p1.vbar(x='Neighborhoods',  top = i, source = src, color = bar_colors[indx], \n",
    "                    width = 0.7, alpha = 0.8, muted_alpha = 0.03, muted=True) \n",
    "        items.append((i, [bar[i]]))\n",
    "\n",
    "    p1 = style(p1)\n",
    "    legend = Legend(items=items, click_policy=\"mute\")\n",
    "    p1.add_layout(legend, \"left\") \n",
    "\n",
    "    return p1"
   ]
  },
  {
   "cell_type": "code",
   "execution_count": 7,
   "metadata": {},
   "outputs": [],
   "source": [
    "def make_plot2(df):\n",
    "    histdata = df[df['Call Type'].isin(sorted(focuscalls))]\n",
    "    \n",
    "    # Count total number of each call type\n",
    "    total = df['Call Type'].value_counts()\n",
    "    df_group = histdata.groupby(['Neighborhooods - Analysis Boundaries'])\n",
    "\n",
    "    l = []\n",
    "    for g in neighborhoods:\n",
    "        tmp = df_group.get_group(g)\n",
    "        l.append(tmp[\"Call Type\"].value_counts()/total)\n",
    "\n",
    "    df_norm = pd.DataFrame(l)\n",
    "    df_norm.insert(loc=0, column='Neighborhoods', value=neighborhoods)\n",
    "\n",
    "    src = ColumnDataSource(df_norm)\n",
    "\n",
    "    p2 = figure(title = \"Calls per Neighborhood\", plot_width=900, plot_height = 600, x_axis_label = \"Neighborhood\", \n",
    "                y_axis_label = \"Relative frequency\", x_range = FactorRange(factors=neighborhoods))\n",
    "    p2.xaxis.major_label_orientation = 1\n",
    "\n",
    "    bar_colors=Category20c[len(focuscalls)]\n",
    "    bar = {} \n",
    "    items = []\n",
    "    for indx,i in enumerate(focuscalls):\n",
    "        bar[i] = p2.vbar(x='Neighborhoods', top = i, source = src, color = bar_colors[indx], \n",
    "                width = 0.7, muted_alpha = 0.03, alpha = 0.7, muted=True) \n",
    "        items.append((i, [bar[i]]))\n",
    "\n",
    "    p2 = style(p2)\n",
    "    legend = Legend(items=items, click_policy=\"mute\")\n",
    "    p2.add_layout(legend, \"left\")\n",
    "\n",
    "    return p2"
   ]
  },
  {
   "cell_type": "code",
   "execution_count": 8,
   "metadata": {},
   "outputs": [],
   "source": [
    "# Update function that accounts for all 3 controls\n",
    "\n",
    "def update(attr, old, new):\n",
    "\n",
    "    # Change year to selected value\n",
    "    year = year_select.value\n",
    "\n",
    "    df_go = histdata[histdata['year'] == year]\n",
    "\n",
    "    # Create new ColumnDataSource\n",
    "    new_src = make_dataset(df_go, year = year)\n",
    "\n",
    "    # Update the data on the plot\n",
    "    src.data.update(new_src.data)"
   ]
  },
  {
   "cell_type": "code",
   "execution_count": 11,
   "metadata": {},
   "outputs": [],
   "source": [
    "# Make slider\n",
    "year_select = Slider(start=histdata['year'].min(), end=2019, step=1, value=2001, title=\"Year\")\n",
    "year_select.on_change('value', update)\n",
    "year_start = year_select.value\n",
    "\n",
    "initial_df = histdata[histdata['year'] == year_select.value]\n",
    "src = make_dataset(initial_df, year = year_start)\n",
    "\n",
    "# Make plots\n",
    "p1 = make_plot1(src)\n",
    "p2 = make_plot2(histdata)\n",
    "\n",
    "# Put controls in a single element\n",
    "controls = bokeh.models.Column(year_select)\n",
    "\n",
    "# Create a row layout\n",
    "layout1 = column(p1, controls)\n",
    "layout2 = column(p2)\n",
    "\n",
    "# Make tabs with the layouts \n",
    "tab1 = Panel(child=layout1, title = 'Call types pr. year')\n",
    "tab2 = Panel(child=layout2, title = 'Call types all time')\n",
    "tabs = Tabs(tabs=[tab1, tab2])"
   ]
  },
  {
   "cell_type": "code",
   "execution_count": 12,
   "metadata": {},
   "outputs": [],
   "source": [
    "# Add layout to the current document\n",
    "layout = column(tabs)\n",
    "curdoc().add_root(layout)"
   ]
  },
  {
   "cell_type": "code",
   "execution_count": null,
   "metadata": {},
   "outputs": [],
   "source": []
  }
 ],
 "metadata": {
  "kernelspec": {
   "display_name": "Python 3",
   "language": "python",
   "name": "python3"
  },
  "language_info": {
   "codemirror_mode": {
    "name": "ipython",
    "version": 3
   },
   "file_extension": ".py",
   "mimetype": "text/x-python",
   "name": "python",
   "nbconvert_exporter": "python",
   "pygments_lexer": "ipython3",
   "version": "3.7.4"
  }
 },
 "nbformat": 4,
 "nbformat_minor": 4
}
